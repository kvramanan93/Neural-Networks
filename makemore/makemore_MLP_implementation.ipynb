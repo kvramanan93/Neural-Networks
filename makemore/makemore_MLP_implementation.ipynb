{
 "cells": [
  {
   "cell_type": "code",
   "id": "initial_id",
   "metadata": {
    "collapsed": true,
    "jupyter": {
     "outputs_hidden": true
    },
    "ExecuteTime": {
     "end_time": "2024-08-14T05:51:26.461374Z",
     "start_time": "2024-08-14T05:51:22.219382Z"
    }
   },
   "source": [
    "import torch\n",
    "import torch.nn.functional as F\n",
    "import matplotlib.pyplot as plt \n",
    "%matplotlib inline"
   ],
   "outputs": [],
   "execution_count": 2
  },
  {
   "cell_type": "code",
   "id": "465770b7ba9e0f71",
   "metadata": {
    "ExecuteTime": {
     "end_time": "2024-08-14T05:51:26.489078Z",
     "start_time": "2024-08-14T05:51:26.462383Z"
    }
   },
   "source": [
    "#read all words\n",
    "words = open('hindi_names.txt','r').read().splitlines()\n",
    "words = [w.lower() for w in words]\n",
    "words[:8]"
   ],
   "outputs": [
    {
     "data": {
      "text/plain": [
       "['aachal',\n",
       " 'aadharsh',\n",
       " 'aadhavi',\n",
       " 'aadhira',\n",
       " 'aadidev',\n",
       " 'aadil',\n",
       " 'aadita',\n",
       " 'aaditya']"
      ]
     },
     "execution_count": 3,
     "metadata": {},
     "output_type": "execute_result"
    }
   ],
   "execution_count": 3
  },
  {
   "cell_type": "code",
   "id": "c7fcf8c284603721",
   "metadata": {
    "ExecuteTime": {
     "end_time": "2024-08-14T05:51:26.494724Z",
     "start_time": "2024-08-14T05:51:26.490086Z"
    }
   },
   "source": [
    "len(words)"
   ],
   "outputs": [
    {
     "data": {
      "text/plain": [
       "2195"
      ]
     },
     "execution_count": 4,
     "metadata": {},
     "output_type": "execute_result"
    }
   ],
   "execution_count": 4
  },
  {
   "cell_type": "code",
   "id": "d1952620cf152dc1",
   "metadata": {
    "ExecuteTime": {
     "end_time": "2024-08-14T05:51:26.500489Z",
     "start_time": "2024-08-14T05:51:26.496731Z"
    }
   },
   "source": [
    "chars = sorted(list(set('.'.join(words))))\n",
    "\n",
    "stoi = {s:i for i,s in enumerate(chars)}\n",
    "stoi['.'] = 0\n",
    "itos = {i:s for s,i in stoi.items()}\n",
    "print(itos)\n"
   ],
   "outputs": [
    {
     "name": "stdout",
     "output_type": "stream",
     "text": [
      "{0: '.', 1: 'a', 2: 'b', 3: 'c', 4: 'd', 5: 'e', 6: 'f', 7: 'g', 8: 'h', 9: 'i', 10: 'j', 11: 'k', 12: 'l', 13: 'm', 14: 'n', 15: 'o', 16: 'p', 17: 'q', 18: 'r', 19: 's', 20: 't', 21: 'u', 22: 'v', 23: 'w', 24: 'x', 25: 'y', 26: 'z'}\n"
     ]
    }
   ],
   "execution_count": 5
  },
  {
   "cell_type": "code",
   "id": "3fa4804a1997a121",
   "metadata": {
    "ExecuteTime": {
     "end_time": "2024-08-14T05:51:26.536914Z",
     "start_time": "2024-08-14T05:51:26.501495Z"
    }
   },
   "source": [
    "# build the dataset\n",
    "block_size = 3 # context length: how many characters do we take to predict the next one?\n",
    "\n",
    "def build_dataset(words):  \n",
    "  X, Y = [], []\n",
    "  for w in words:\n",
    "\n",
    "    #print(w)\n",
    "    context = [0] * block_size\n",
    "    for ch in w + '.':\n",
    "      ix = stoi[ch]\n",
    "      X.append(context)\n",
    "      Y.append(ix)\n",
    "      #print(''.join(itos[i] for i in context), '--->', itos[ix])\n",
    "      context = context[1:] + [ix] # crop and append\n",
    "\n",
    "  X = torch.tensor(X)\n",
    "  Y = torch.tensor(Y)\n",
    "  print(X.shape, Y.shape)\n",
    "  return X, Y\n",
    "\n",
    "import random\n",
    "random.seed(42)\n",
    "random.shuffle(words)\n",
    "n1 = int(0.8*len(words))\n",
    "n2 = int(0.9*len(words))\n",
    "\n",
    "Xtr, Ytr = build_dataset(words[:n1])\n",
    "Xdev, Ydev = build_dataset(words[n1:n2])\n",
    "Xte, Yte = build_dataset(words[n2:])"
   ],
   "outputs": [
    {
     "name": "stdout",
     "output_type": "stream",
     "text": [
      "torch.Size([13163, 3]) torch.Size([13163])\n",
      "torch.Size([1611, 3]) torch.Size([1611])\n",
      "torch.Size([1608, 3]) torch.Size([1608])\n"
     ]
    }
   ],
   "execution_count": 6
  },
  {
   "metadata": {
    "ExecuteTime": {
     "end_time": "2024-08-14T05:54:25.184344Z",
     "start_time": "2024-08-14T05:54:25.179610Z"
    }
   },
   "cell_type": "code",
   "source": "Xtr[:7]",
   "id": "aea1e48cd5b2b71e",
   "outputs": [
    {
     "data": {
      "text/plain": [
       "tensor([[ 0,  0,  0],\n",
       "        [ 0,  0, 11],\n",
       "        [ 0, 11, 21],\n",
       "        [11, 21, 14],\n",
       "        [21, 14,  1],\n",
       "        [14,  1,  1],\n",
       "        [ 1,  1, 12]])"
      ]
     },
     "execution_count": 10,
     "metadata": {},
     "output_type": "execute_result"
    }
   ],
   "execution_count": 10
  },
  {
   "metadata": {
    "ExecuteTime": {
     "end_time": "2024-08-12T15:49:04.518280Z",
     "start_time": "2024-08-12T15:49:04.513939Z"
    }
   },
   "cell_type": "code",
   "source": "Xtr.shape, Xtr.dtype, Ytr.shape,Ytr.dtype ",
   "id": "e336c402b859792d",
   "outputs": [
    {
     "data": {
      "text/plain": [
       "(torch.Size([13109, 3]), torch.int64, torch.Size([13109]), torch.int64)"
      ]
     },
     "execution_count": 75,
     "metadata": {},
     "output_type": "execute_result"
    }
   ],
   "execution_count": 75
  },
  {
   "metadata": {
    "ExecuteTime": {
     "end_time": "2024-08-12T15:49:09.954024Z",
     "start_time": "2024-08-12T15:49:09.950656Z"
    }
   },
   "cell_type": "code",
   "source": [
    "k = [0]*10\n",
    "print(''.join(itos[m] for m in k))\n",
    "\n"
   ],
   "id": "85df40e8771b1e32",
   "outputs": [
    {
     "name": "stdout",
     "output_type": "stream",
     "text": [
      "..........\n"
     ]
    }
   ],
   "execution_count": 76
  },
  {
   "metadata": {
    "ExecuteTime": {
     "end_time": "2024-08-12T15:43:27.784858Z",
     "start_time": "2024-08-12T15:43:27.778804Z"
    }
   },
   "cell_type": "code",
   "source": [
    "C = torch.randn((27,2))\n",
    "C"
   ],
   "id": "93efd141d00793ae",
   "outputs": [
    {
     "data": {
      "text/plain": [
       "tensor([[ 1.3052,  0.0376],\n",
       "        [-0.1583, -0.5615],\n",
       "        [-0.3455,  1.2494],\n",
       "        [-0.3647,  0.9484],\n",
       "        [ 1.1511, -0.1585],\n",
       "        [-0.0488, -0.8406],\n",
       "        [-0.1185, -0.5552],\n",
       "        [ 0.5772,  0.1493],\n",
       "        [ 0.2962,  0.2219],\n",
       "        [ 0.6210,  0.9091],\n",
       "        [-0.6872,  0.4669],\n",
       "        [ 0.7812,  1.0680],\n",
       "        [-0.0443, -0.2321],\n",
       "        [ 0.6257,  0.9454],\n",
       "        [ 1.1768, -0.9271],\n",
       "        [ 0.7702,  0.7102],\n",
       "        [ 0.6994, -0.8417],\n",
       "        [-0.7394,  1.0401],\n",
       "        [-0.2836,  1.3831],\n",
       "        [ 1.1050,  0.5231],\n",
       "        [ 0.0611, -0.8194],\n",
       "        [-0.6893,  1.1655],\n",
       "        [ 1.5464, -1.3962],\n",
       "        [-0.9138, -0.3530],\n",
       "        [ 1.8618,  0.4062],\n",
       "        [ 1.3582,  0.6187],\n",
       "        [ 1.0514,  0.6765]])"
      ]
     },
     "execution_count": 42,
     "metadata": {},
     "output_type": "execute_result"
    }
   ],
   "execution_count": 42
  },
  {
   "metadata": {
    "ExecuteTime": {
     "end_time": "2024-08-12T15:49:51.473735Z",
     "start_time": "2024-08-12T15:49:51.462465Z"
    }
   },
   "cell_type": "code",
   "source": [
    "emb = C[Xtr] \n",
    "emb.shape\n",
    "emb\n"
   ],
   "id": "afb5b97f23af2d84",
   "outputs": [
    {
     "data": {
      "text/plain": [
       "tensor([[[ 1.5674e+00, -2.3729e-01, -2.7385e-02,  ...,  6.0489e-01,\n",
       "           7.9136e-02,  9.0462e-01],\n",
       "         [ 1.5674e+00, -2.3729e-01, -2.7385e-02,  ...,  6.0489e-01,\n",
       "           7.9136e-02,  9.0462e-01],\n",
       "         [ 1.5674e+00, -2.3729e-01, -2.7385e-02,  ...,  6.0489e-01,\n",
       "           7.9136e-02,  9.0462e-01]],\n",
       "\n",
       "        [[ 1.5674e+00, -2.3729e-01, -2.7385e-02,  ...,  6.0489e-01,\n",
       "           7.9136e-02,  9.0462e-01],\n",
       "         [ 1.5674e+00, -2.3729e-01, -2.7385e-02,  ...,  6.0489e-01,\n",
       "           7.9136e-02,  9.0462e-01],\n",
       "         [-2.1286e-01,  5.0950e-01,  3.2713e-01,  ..., -1.1100e+00,\n",
       "          -4.5285e-01, -4.9578e-01]],\n",
       "\n",
       "        [[ 1.5674e+00, -2.3729e-01, -2.7385e-02,  ...,  6.0489e-01,\n",
       "           7.9136e-02,  9.0462e-01],\n",
       "         [-2.1286e-01,  5.0950e-01,  3.2713e-01,  ..., -1.1100e+00,\n",
       "          -4.5285e-01, -4.9578e-01],\n",
       "         [-1.1641e+00,  1.2473e+00, -2.7061e-01,  ..., -8.6249e-01,\n",
       "          -1.2575e+00,  9.4180e-01]],\n",
       "\n",
       "        ...,\n",
       "\n",
       "        [[ 4.6827e-01, -6.5650e-01,  6.1662e-01,  ..., -4.5585e-01,\n",
       "          -1.3132e-03, -5.1161e-01],\n",
       "         [ 5.5570e-01,  4.7458e-01, -1.3867e+00,  ...,  1.0198e+00,\n",
       "          -1.9062e+00, -4.2753e-01],\n",
       "         [ 5.5570e-01,  4.7458e-01, -1.3867e+00,  ...,  1.0198e+00,\n",
       "          -1.9062e+00, -4.2753e-01]],\n",
       "\n",
       "        [[ 5.5570e-01,  4.7458e-01, -1.3867e+00,  ...,  1.0198e+00,\n",
       "          -1.9062e+00, -4.2753e-01],\n",
       "         [ 5.5570e-01,  4.7458e-01, -1.3867e+00,  ...,  1.0198e+00,\n",
       "          -1.9062e+00, -4.2753e-01],\n",
       "         [-2.1259e+00,  9.6041e-01,  1.2482e+00,  ...,  4.0716e-01,\n",
       "          -1.9018e-01, -6.9652e-01]],\n",
       "\n",
       "        [[ 5.5570e-01,  4.7458e-01, -1.3867e+00,  ...,  1.0198e+00,\n",
       "          -1.9062e+00, -4.2753e-01],\n",
       "         [-2.1259e+00,  9.6041e-01,  1.2482e+00,  ...,  4.0716e-01,\n",
       "          -1.9018e-01, -6.9652e-01],\n",
       "         [-1.3257e+00,  1.4670e-01,  1.6913e-01,  ..., -2.9771e-01,\n",
       "          -1.3707e+00,  1.1500e-01]]], grad_fn=<IndexBackward0>)"
      ]
     },
     "execution_count": 86,
     "metadata": {},
     "output_type": "execute_result"
    }
   ],
   "execution_count": 86
  },
  {
   "metadata": {
    "ExecuteTime": {
     "end_time": "2024-08-12T15:49:53.684484Z",
     "start_time": "2024-08-12T15:49:53.680774Z"
    }
   },
   "cell_type": "code",
   "source": "emb.shape",
   "id": "94d0eebfae7ee09c",
   "outputs": [
    {
     "data": {
      "text/plain": [
       "torch.Size([13109, 3, 10])"
      ]
     },
     "execution_count": 87,
     "metadata": {},
     "output_type": "execute_result"
    }
   ],
   "execution_count": 87
  },
  {
   "metadata": {
    "ExecuteTime": {
     "end_time": "2024-08-12T15:49:54.837702Z",
     "start_time": "2024-08-12T15:49:54.834470Z"
    }
   },
   "cell_type": "code",
   "source": [
    "W1 = torch.randn((6,100))\n",
    "b1 = torch.randn(100)"
   ],
   "id": "a9084760052cd2e7",
   "outputs": [],
   "execution_count": 88
  },
  {
   "metadata": {
    "ExecuteTime": {
     "end_time": "2024-08-12T15:49:55.667659Z",
     "start_time": "2024-08-12T15:49:55.596852Z"
    }
   },
   "cell_type": "code",
   "source": "h = torch.tanh(emb.view(-1,6)@W1 + b1)",
   "id": "f570c1bdb5d48e57",
   "outputs": [],
   "execution_count": 89
  },
  {
   "metadata": {
    "ExecuteTime": {
     "end_time": "2024-08-12T15:49:56.894964Z",
     "start_time": "2024-08-12T15:49:56.889832Z"
    }
   },
   "cell_type": "code",
   "source": "h",
   "id": "49d3454b20f3df30",
   "outputs": [
    {
     "data": {
      "text/plain": [
       "tensor([[ 0.9975,  0.9988, -0.8194,  ...,  0.4506,  0.9836,  0.8454],\n",
       "        [ 0.6789, -0.9762, -0.8761,  ...,  0.8741,  0.0127, -0.9994],\n",
       "        [-0.9758, -0.9035,  0.7424,  ..., -0.9594, -0.9999,  0.9416],\n",
       "        ...,\n",
       "        [ 0.9995, -0.2908, -0.9862,  ...,  0.9997,  0.9999,  0.7033],\n",
       "        [ 0.9554,  0.9603, -0.9199,  ..., -0.9824, -0.9420, -0.9935],\n",
       "        [ 0.1837,  0.7372,  0.7946,  ...,  0.6917, -1.0000,  0.9867]],\n",
       "       grad_fn=<TanhBackward0>)"
      ]
     },
     "execution_count": 90,
     "metadata": {},
     "output_type": "execute_result"
    }
   ],
   "execution_count": 90
  },
  {
   "metadata": {
    "ExecuteTime": {
     "end_time": "2024-08-12T15:49:58.044621Z",
     "start_time": "2024-08-12T15:49:58.039758Z"
    }
   },
   "cell_type": "code",
   "source": "h.shape",
   "id": "3dca408a66cc8dfd",
   "outputs": [
    {
     "data": {
      "text/plain": [
       "torch.Size([65545, 100])"
      ]
     },
     "execution_count": 91,
     "metadata": {},
     "output_type": "execute_result"
    }
   ],
   "execution_count": 91
  },
  {
   "metadata": {
    "ExecuteTime": {
     "end_time": "2024-08-12T15:49:58.847187Z",
     "start_time": "2024-08-12T15:49:58.844501Z"
    }
   },
   "cell_type": "code",
   "source": [
    "W2 = torch.randn((100, 27))\n",
    "b2 = torch.randn(27)"
   ],
   "id": "d668ee85a0003b0c",
   "outputs": [],
   "execution_count": 92
  },
  {
   "metadata": {
    "ExecuteTime": {
     "end_time": "2024-08-12T15:49:59.885442Z",
     "start_time": "2024-08-12T15:49:59.871957Z"
    }
   },
   "cell_type": "code",
   "source": "logits = h @ W2 + b2",
   "id": "a168eb5b0a1c7523",
   "outputs": [],
   "execution_count": 93
  },
  {
   "metadata": {
    "ExecuteTime": {
     "end_time": "2024-08-12T15:50:01.160158Z",
     "start_time": "2024-08-12T15:50:01.155805Z"
    }
   },
   "cell_type": "code",
   "source": "logits.shape",
   "id": "423c43ae2e74de56",
   "outputs": [
    {
     "data": {
      "text/plain": [
       "torch.Size([65545, 27])"
      ]
     },
     "execution_count": 94,
     "metadata": {},
     "output_type": "execute_result"
    }
   ],
   "execution_count": 94
  },
  {
   "metadata": {
    "ExecuteTime": {
     "end_time": "2024-08-12T15:50:01.790232Z",
     "start_time": "2024-08-12T15:50:01.783267Z"
    }
   },
   "cell_type": "code",
   "source": "counts = logits.exp()",
   "id": "561ac9709b66ee49",
   "outputs": [],
   "execution_count": 95
  },
  {
   "metadata": {
    "ExecuteTime": {
     "end_time": "2024-08-12T15:50:02.508999Z",
     "start_time": "2024-08-12T15:50:02.492016Z"
    }
   },
   "cell_type": "code",
   "source": "prob = counts / counts.sum(1, keepdims=True)",
   "id": "a182c5f03384e30b",
   "outputs": [],
   "execution_count": 96
  },
  {
   "metadata": {
    "ExecuteTime": {
     "end_time": "2024-08-12T15:50:02.992145Z",
     "start_time": "2024-08-12T15:50:02.988194Z"
    }
   },
   "cell_type": "code",
   "source": "prob.shape",
   "id": "fdc03142d327116d",
   "outputs": [
    {
     "data": {
      "text/plain": [
       "torch.Size([65545, 27])"
      ]
     },
     "execution_count": 97,
     "metadata": {},
     "output_type": "execute_result"
    }
   ],
   "execution_count": 97
  },
  {
   "metadata": {
    "ExecuteTime": {
     "end_time": "2024-08-12T15:50:04.614313Z",
     "start_time": "2024-08-12T15:50:04.609428Z"
    }
   },
   "cell_type": "code",
   "source": [
    "loss = -prob[torch.arange(16382), Y].log().mean()\n",
    "loss"
   ],
   "id": "efd707471a710744",
   "outputs": [
    {
     "data": {
      "text/plain": [
       "tensor(15.8604, grad_fn=<NegBackward0>)"
      ]
     },
     "execution_count": 98,
     "metadata": {},
     "output_type": "execute_result"
    }
   ],
   "execution_count": 98
  },
  {
   "metadata": {
    "ExecuteTime": {
     "end_time": "2024-08-12T15:50:06.132288Z",
     "start_time": "2024-08-12T15:50:06.128278Z"
    }
   },
   "cell_type": "code",
   "source": [
    "g = torch.Generator().manual_seed(2147483647) # for reproducibility\n",
    "C = torch.randn((27, 10), generator=g)\n",
    "W1 = torch.randn((30, 200), generator=g)\n",
    "b1 = torch.randn(200, generator=g)\n",
    "W2 = torch.randn((200, 27), generator=g)\n",
    "b2 = torch.randn(27, generator=g)\n",
    "parameters = [C, W1, b1, W2, b2]"
   ],
   "id": "24fecedccf064be7",
   "outputs": [],
   "execution_count": 99
  },
  {
   "metadata": {
    "ExecuteTime": {
     "end_time": "2024-08-12T15:50:08.558023Z",
     "start_time": "2024-08-12T15:50:08.553659Z"
    }
   },
   "cell_type": "code",
   "source": "sum(p.nelement() for p in parameters) # number of parameters in total",
   "id": "b6eede4d3a1d6b9",
   "outputs": [
    {
     "data": {
      "text/plain": [
       "11897"
      ]
     },
     "execution_count": 100,
     "metadata": {},
     "output_type": "execute_result"
    }
   ],
   "execution_count": 100
  },
  {
   "metadata": {
    "ExecuteTime": {
     "end_time": "2024-08-12T15:50:09.242947Z",
     "start_time": "2024-08-12T15:50:09.238461Z"
    }
   },
   "cell_type": "code",
   "source": [
    "for p in parameters:\n",
    "  p.requires_grad = True"
   ],
   "id": "1ac83f9c78521d5b",
   "outputs": [],
   "execution_count": 101
  },
  {
   "metadata": {
    "ExecuteTime": {
     "end_time": "2024-08-12T15:50:09.919769Z",
     "start_time": "2024-08-12T15:50:09.915336Z"
    }
   },
   "cell_type": "code",
   "source": [
    "lre = torch.linspace(-3, 0, 1000)\n",
    "lrs = 10**lre"
   ],
   "id": "bb516e78b529a1d",
   "outputs": [],
   "execution_count": 102
  },
  {
   "metadata": {
    "ExecuteTime": {
     "end_time": "2024-08-12T15:50:10.688420Z",
     "start_time": "2024-08-12T15:50:10.684857Z"
    }
   },
   "cell_type": "code",
   "source": [
    "lri = []\n",
    "lossi = []\n",
    "stepi = []"
   ],
   "id": "255bf5dd227b0a1f",
   "outputs": [],
   "execution_count": 103
  },
  {
   "metadata": {
    "ExecuteTime": {
     "end_time": "2024-08-12T15:51:20.608862Z",
     "start_time": "2024-08-12T15:50:11.882162Z"
    }
   },
   "cell_type": "code",
   "source": [
    "for i in range(200000):\n",
    "  \n",
    "  # minibatch construct\n",
    "  ix = torch.randint(0, Xtr.shape[0], (32,))\n",
    "  \n",
    "  # forward pass\n",
    "  emb = C[Xtr[ix]] # (32, 3, 10)\n",
    "  h = torch.tanh(emb.view(-1, 30) @ W1 + b1) # (32, 200)\n",
    "  logits = h @ W2 + b2 # (32, 27)\n",
    "  loss = F.cross_entropy(logits, Ytr[ix])\n",
    "  #print(loss.item())\n",
    "  \n",
    "  # backward pass\n",
    "  for p in parameters:\n",
    "    p.grad = None\n",
    "  loss.backward()\n",
    "  \n",
    "  # update\n",
    "  #lr = lrs[i]\n",
    "  lr = 0.1 if i < 100000 else 0.01\n",
    "  for p in parameters:\n",
    "    p.data += -lr * p.grad\n",
    "\n",
    "  # track stats\n",
    "  #lri.append(lre[i])\n",
    "  stepi.append(i)\n",
    "  lossi.append(loss.log10().item())\n",
    "\n",
    "#print(loss.item())"
   ],
   "id": "c7bd1ba5f38bb820",
   "outputs": [],
   "execution_count": 104
  },
  {
   "metadata": {
    "ExecuteTime": {
     "end_time": "2024-08-12T15:51:20.920008Z",
     "start_time": "2024-08-12T15:51:20.609872Z"
    }
   },
   "cell_type": "code",
   "source": "plt.plot(stepi, lossi)",
   "id": "408c0bacd3863041",
   "outputs": [
    {
     "data": {
      "text/plain": [
       "[<matplotlib.lines.Line2D at 0x232bb91d0d0>]"
      ]
     },
     "execution_count": 105,
     "metadata": {},
     "output_type": "execute_result"
    },
    {
     "data": {
      "text/plain": [
       "<Figure size 640x480 with 1 Axes>"
      ],
      "image/png": "[encoded data removed]"
     },
     "metadata": {},
     "output_type": "display_data"
    }
   ],
   "execution_count": 105
  },
  {
   "metadata": {
    "ExecuteTime": {
     "end_time": "2024-08-12T15:51:47.650874Z",
     "start_time": "2024-08-12T15:51:47.629701Z"
    }
   },
   "cell_type": "code",
   "source": [
    "emb = C[Xtr] # (32, 3, 2)\n",
    "h = torch.tanh(emb.view(-1, 30) @ W1 + b1) # (32, 100)\n",
    "logits = h @ W2 + b2 # (32, 27)\n",
    "loss = F.cross_entropy(logits, Ytr)\n",
    "loss"
   ],
   "id": "1aac5ba0934c3fb4",
   "outputs": [
    {
     "data": {
      "text/plain": [
       "tensor(1.5166, grad_fn=<NllLossBackward0>)"
      ]
     },
     "execution_count": 106,
     "metadata": {},
     "output_type": "execute_result"
    }
   ],
   "execution_count": 106
  },
  {
   "metadata": {
    "ExecuteTime": {
     "end_time": "2024-08-12T15:51:52.997246Z",
     "start_time": "2024-08-12T15:51:52.988459Z"
    }
   },
   "cell_type": "code",
   "source": [
    "emb = C[Xdev] # (32, 3, 2)\n",
    "h = torch.tanh(emb.view(-1, 30) @ W1 + b1) # (32, 100)\n",
    "logits = h @ W2 + b2 # (32, 27)\n",
    "loss = F.cross_entropy(logits, Ydev)\n",
    "loss"
   ],
   "id": "7b9eda3eeb8d7b97",
   "outputs": [
    {
     "data": {
      "text/plain": [
       "tensor(2.6555, grad_fn=<NllLossBackward0>)"
      ]
     },
     "execution_count": 107,
     "metadata": {},
     "output_type": "execute_result"
    }
   ],
   "execution_count": 107
  },
  {
   "metadata": {
    "ExecuteTime": {
     "end_time": "2024-08-12T15:51:59.328232Z",
     "start_time": "2024-08-12T15:51:59.162184Z"
    }
   },
   "cell_type": "code",
   "source": [
    "# visualize dimensions 0 and 1 of the embedding matrix C for all characters\n",
    "plt.figure(figsize=(8,8))\n",
    "plt.scatter(C[:,0].data, C[:,1].data, s=200)\n",
    "for i in range(C.shape[0]):\n",
    "    plt.text(C[i,0].item(), C[i,1].item(), itos[i], ha=\"center\", va=\"center\", color='white')\n",
    "plt.grid('minor')"
   ],
   "id": "739e448df5411e93",
   "outputs": [
    {
     "data": {
      "text/plain": [
       "<Figure size 800x800 with 1 Axes>"
      ],
      "image/png": "[encoded data removed]"
     },
     "metadata": {},
     "output_type": "display_data"
    }
   ],
   "execution_count": 108
  },
  {
   "metadata": {
    "ExecuteTime": {
     "end_time": "2024-08-12T15:52:07.874950Z",
     "start_time": "2024-08-12T15:52:07.870943Z"
    }
   },
   "cell_type": "code",
   "source": [
    "context = [0] * block_size\n",
    "C[torch.tensor([context])].shape"
   ],
   "id": "69471545c594b384",
   "outputs": [
    {
     "data": {
      "text/plain": [
       "torch.Size([1, 3, 10])"
      ]
     },
     "execution_count": 109,
     "metadata": {},
     "output_type": "execute_result"
    }
   ],
   "execution_count": 109
  },
  {
   "metadata": {
    "ExecuteTime": {
     "end_time": "2024-08-12T15:52:47.766695Z",
     "start_time": "2024-08-12T15:52:47.617992Z"
    }
   },
   "cell_type": "code",
   "source": [
    "# sample from the model\n",
    "g = torch.Generator().manual_seed(2147483647 + 10)\n",
    "\n",
    "for _ in range(200):\n",
    "    \n",
    "    out = []\n",
    "    context = [0] * block_size # initialize with all ...\n",
    "    while True:\n",
    "      emb = C[torch.tensor([context])] # (1,block_size,d)\n",
    "      h = torch.tanh(emb.view(1, -1) @ W1 + b1)\n",
    "      logits = h @ W2 + b2\n",
    "      probs = F.softmax(logits, dim=1)\n",
    "      ix = torch.multinomial(probs, num_samples=1, generator=g).item()\n",
    "      context = context[1:] + [ix]\n",
    "      out.append(ix)\n",
    "      if ix == 0:\n",
    "        break\n",
    "    \n",
    "    print(''.join(itos[i] for i in out))"
   ],
   "id": "5096abd03eaede6a",
   "outputs": [
    {
     "name": "stdout",
     "output_type": "stream",
     "text": [
      "mritikanangi.\n",
      "elan.\n",
      "haram.\n",
      "revarul.\n",
      "jarveer.\n",
      "deep.\n",
      "see.\n",
      "inder.\n",
      "prasekhanvendrasthal.\n",
      "kor.\n",
      "kar.\n",
      "nesh.\n",
      "bhrithiranjay.\n",
      "nirveer.\n",
      "punya.\n",
      "chi.\n",
      "bhanveer.\n",
      "yashi.\n",
      "ehs.\n",
      "kar.\n",
      "avsh.\n",
      "yas.\n",
      "hir.\n",
      "sadya.\n",
      "suhauragufta.\n",
      "rith.\n",
      "tvarveerat.\n",
      "pradit.\n",
      "hira.\n",
      "oppil.\n",
      "tipu.\n",
      "amranjeev.\n",
      "ran.\n",
      "vidas.\n",
      "rishvikanakan.\n",
      "iravansh.\n",
      "priyansh.\n",
      "amita.\n",
      "kavishivan.\n",
      "meet.\n",
      "keer.\n",
      "mohsini.\n",
      "avdam.\n",
      "cherry.\n",
      "atim.\n",
      "ant.\n",
      "aija.\n",
      "nihira.\n",
      "lavajalendranika.\n",
      "ritra.\n",
      "inder.\n",
      "vona.\n",
      "thander.\n",
      "kaushirugnan.\n",
      "ambuj.\n",
      "zarrhanamanitha.\n",
      "jami.\n",
      "jiya.\n",
      "ama.\n",
      "chamilashika.\n",
      "cha.\n",
      "chanika.\n",
      "vijahant.\n",
      "maazian.\n",
      "aruddhaadhumaideepti.\n",
      "abhikharp.\n",
      "anuj.\n",
      "saudamilash.\n",
      "saine.\n",
      "pranchirajveeram.\n",
      "abir.\n",
      "amaad.\n",
      "anjanhav.\n",
      "sha.\n",
      "harkiravya.\n",
      "azhi.\n",
      "anural.\n",
      "jiva.\n",
      "nitya.\n",
      "prad.\n",
      "ariom.\n",
      "sonica.\n",
      "amrudayakshi.\n",
      "anshu.\n",
      "omya.\n",
      "ehti.\n",
      "indora.\n",
      "jaib.\n",
      "gavesh.\n",
      "jogis.\n",
      "jignant.\n",
      "ana.\n",
      "divyamara.\n",
      "jahantik.\n",
      "snoopur.\n",
      "yukta.\n",
      "kashodeepriya.\n",
      "amridhaka.\n",
      "prasim.\n",
      "sha.\n",
      "roubhuti.\n",
      "idish.\n",
      "ahim.\n",
      "vidyada.\n",
      "lad.\n",
      "nal.\n",
      "nirukriti.\n",
      "arshaarjunangansh.\n",
      "ani.\n",
      "han.\n",
      "kamang.\n",
      "shi.\n",
      "jamik.\n",
      "shu.\n",
      "devasanan.\n",
      "ridhikalpanam.\n",
      "sujana.\n",
      "elak.\n",
      "hambaldevjeev.\n",
      "umme.\n",
      "sony.\n",
      "suryan.\n",
      "prakajo.\n",
      "parib.\n",
      "ayjit.\n",
      "sukiravyan.\n",
      "pur.\n",
      "anjanika.\n",
      "deepika.\n",
      "anya.\n",
      "anshu.\n",
      "nupasand.\n",
      "atul.\n",
      "sethuri.\n",
      "shreshambika.\n",
      "nikhalavanshu.\n",
      "paranjot.\n",
      "gita.\n",
      "hamoosvi.\n",
      "sha.\n",
      "bhavinali.\n",
      "anshu.\n",
      "bhant.\n",
      "garika.\n",
      "rajinayesh.\n",
      "jalin.\n",
      "doshayanamprathreya.\n",
      "revansi.\n",
      "aakarib.\n",
      "vatsanya.\n",
      "jay.\n",
      "vari.\n",
      "shif.\n",
      "vipu.\n",
      "rish.\n",
      "dev.\n",
      "sony.\n",
      "hir.\n",
      "sayu.\n",
      "rash.\n",
      "abhika.\n",
      "anukrishti.\n",
      "prath.\n",
      "usmita.\n",
      "meharan.\n",
      "mana.\n",
      "alkedhika.\n",
      "aadium.\n",
      "har.\n",
      "zra.\n",
      "pal.\n",
      "dev.\n",
      "ana.\n",
      "taramukulvenkar.\n",
      "dhreyan.\n",
      "naz.\n",
      "bhawini.\n",
      "anila.\n",
      "sandani.\n",
      "shu.\n",
      "bhaswin.\n",
      "geet.\n",
      "nihir.\n",
      "priya.\n",
      "vatsalmavana.\n",
      "chammaan.\n",
      "azmi.\n",
      "heeshithvi.\n",
      "saswin.\n",
      "indit.\n",
      "bipika.\n",
      "heman.\n",
      "nitishekha.\n",
      "pran.\n",
      "akhilesh.\n",
      "aumika.\n",
      "rua.\n",
      "grahim.\n",
      "riti.\n",
      "gunay.\n"
     ]
    }
   ],
   "execution_count": 111
  }
 ],
 "metadata": {
  "kernelspec": {
   "display_name": "Python 3 (ipykernel)",
   "language": "python",
   "name": "python3"
  },
  "language_info": {
   "codemirror_mode": {
    "name": "ipython",
    "version": 3
   },
   "file_extension": ".py",
   "mimetype": "text/x-python",
   "name": "python",
   "nbconvert_exporter": "python",
   "pygments_lexer": "ipython3",
   "version": "3.11.4"
  }
 },
 "nbformat": 4,
 "nbformat_minor": 5
}
