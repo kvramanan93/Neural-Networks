{
 "cells": [
  {
   "metadata": {
    "ExecuteTime": {
     "end_time": "2024-08-19T11:51:05.347281Z",
     "start_time": "2024-08-19T11:51:05.324542Z"
    }
   },
   "cell_type": "code",
   "source": [
    "import pandas as pd\n",
    "\n",
    "# Load names from CSV\n",
    "df_csv = pd.read_csv('names_only.csv', header=None)\n",
    "csv_names = df_csv[0].tolist()  # Convert to list\n",
    "\n",
    "# Load names from TXT\n",
    "with open('hindi_names.txt', 'r') as file:\n",
    "    txt_names = file.read().splitlines()  # Read lines and strip newlines\n",
    "\n",
    "# Combine both lists\n",
    "all_names = csv_names + txt_names\n",
    "\n",
    "# Remove duplicates and create a DataFrame\n",
    "unique_names = pd.DataFrame(pd.Series(all_names).unique(), columns=['Name'])\n",
    "\n",
    "# Save to a new CSV file\n",
    "unique_names.to_csv('merged_names.csv', index=False)\n"
   ],
   "id": "fb871c43b3e57d4f",
   "outputs": [],
   "execution_count": 64
  },
  {
   "metadata": {
    "ExecuteTime": {
     "end_time": "2024-08-19T11:51:48.585827Z",
     "start_time": "2024-08-19T11:51:48.576243Z"
    }
   },
   "cell_type": "code",
   "source": [
    "df_csv = pd.read_csv('merged_names.csv', header=None)\n",
    "df_csv.head()"
   ],
   "id": "c836b4a650f2a7dc",
   "outputs": [
    {
     "data": {
      "text/plain": [
       "        0\n",
       "0    Name\n",
       "1   aabid\n",
       "2  aabida\n",
       "3  aachal\n",
       "4  aadesh"
      ],
      "text/html": [
       "<div>\n",
       "<style scoped>\n",
       "    .dataframe tbody tr th:only-of-type {\n",
       "        vertical-align: middle;\n",
       "    }\n",
       "\n",
       "    .dataframe tbody tr th {\n",
       "        vertical-align: top;\n",
       "    }\n",
       "\n",
       "    .dataframe thead th {\n",
       "        text-align: right;\n",
       "    }\n",
       "</style>\n",
       "<table border=\"1\" class=\"dataframe\">\n",
       "  <thead>\n",
       "    <tr style=\"text-align: right;\">\n",
       "      <th></th>\n",
       "      <th>0</th>\n",
       "    </tr>\n",
       "  </thead>\n",
       "  <tbody>\n",
       "    <tr>\n",
       "      <th>0</th>\n",
       "      <td>Name</td>\n",
       "    </tr>\n",
       "    <tr>\n",
       "      <th>1</th>\n",
       "      <td>aabid</td>\n",
       "    </tr>\n",
       "    <tr>\n",
       "      <th>2</th>\n",
       "      <td>aabida</td>\n",
       "    </tr>\n",
       "    <tr>\n",
       "      <th>3</th>\n",
       "      <td>aachal</td>\n",
       "    </tr>\n",
       "    <tr>\n",
       "      <th>4</th>\n",
       "      <td>aadesh</td>\n",
       "    </tr>\n",
       "  </tbody>\n",
       "</table>\n",
       "</div>"
      ]
     },
     "execution_count": 67,
     "metadata": {},
     "output_type": "execute_result"
    }
   ],
   "execution_count": 67
  },
  {
   "metadata": {
    "ExecuteTime": {
     "end_time": "2024-08-19T12:25:42.679909Z",
     "start_time": "2024-08-19T12:25:42.224149Z"
    }
   },
   "cell_type": "code",
   "source": [
    "import pandas as pd\n",
    "import re\n",
    "def clean_name(name):\n",
    "    if pd.isna(name):\n",
    "        return ''\n",
    "    name = str(name).lower()  # Convert to lowercase\n",
    "    return re.sub(r'[^a-z]', '', name) "
   ],
   "id": "23b207e0f6296c3a",
   "outputs": [],
   "execution_count": 1
  },
  {
   "metadata": {
    "ExecuteTime": {
     "end_time": "2024-08-19T12:25:57.269427Z",
     "start_time": "2024-08-19T12:25:57.253443Z"
    }
   },
   "cell_type": "code",
   "source": [
    "df_csv = pd.read_csv('merged_names.csv', header=None)\n",
    "df_csv.columns = ['Name']  # Name the column for clarity"
   ],
   "id": "7b8c77391a07a0ea",
   "outputs": [],
   "execution_count": 2
  },
  {
   "metadata": {
    "ExecuteTime": {
     "end_time": "2024-08-19T12:26:08.228736Z",
     "start_time": "2024-08-19T12:26:08.215741Z"
    }
   },
   "cell_type": "code",
   "source": "df_csv['Cleaned_Name'] = df_csv['Name'].apply(clean_name)",
   "id": "208f9bcca4547edb",
   "outputs": [],
   "execution_count": 3
  },
  {
   "metadata": {
    "ExecuteTime": {
     "end_time": "2024-08-19T12:26:18.487622Z",
     "start_time": "2024-08-19T12:26:18.466757Z"
    }
   },
   "cell_type": "code",
   "source": [
    "df_csv = df_csv.drop(columns=['Name'])\n",
    "\n",
    "# Remove duplicates and save to a new CSV file\n",
    "df_csv['Cleaned_Name'] = df_csv['Cleaned_Name'].str.strip()  # Strip any extra spaces\n",
    "df_csv = df_csv.drop_duplicates()\n",
    "df_csv.to_csv('cleaned_names.csv', index=False)"
   ],
   "id": "283b6a24470b9048",
   "outputs": [],
   "execution_count": 4
  },
  {
   "metadata": {
    "ExecuteTime": {
     "end_time": "2024-08-19T12:28:29.368476Z",
     "start_time": "2024-08-19T12:28:29.361497Z"
    }
   },
   "cell_type": "code",
   "source": [
    "df_csv = pd.read_csv('cleaned_names.csv', header=None)\n",
    "names = df_csv[0].tolist()"
   ],
   "id": "2168799fc54f747a",
   "outputs": [],
   "execution_count": 6
  },
  {
   "metadata": {
    "ExecuteTime": {
     "end_time": "2024-08-19T12:28:45.807195Z",
     "start_time": "2024-08-19T12:28:45.792982Z"
    }
   },
   "cell_type": "code",
   "source": [
    "with open('cleaned_names.txt', 'w') as file:\n",
    "    for name in names:\n",
    "        file.write(f\"{name}\\n\")"
   ],
   "id": "8e03c8c354bff0e0",
   "outputs": [],
   "execution_count": 7
  },
  {
   "metadata": {},
   "cell_type": "code",
   "outputs": [],
   "execution_count": null,
   "source": "",
   "id": "d5154bf931bc3e92"
  }
 ],
 "metadata": {
  "kernelspec": {
   "display_name": "Python 3",
   "language": "python",
   "name": "python3"
  },
  "language_info": {
   "codemirror_mode": {
    "name": "ipython",
    "version": 2
   },
   "file_extension": ".py",
   "mimetype": "text/x-python",
   "name": "python",
   "nbconvert_exporter": "python",
   "pygments_lexer": "ipython2",
   "version": "2.7.6"
  }
 },
 "nbformat": 4,
 "nbformat_minor": 5
}
