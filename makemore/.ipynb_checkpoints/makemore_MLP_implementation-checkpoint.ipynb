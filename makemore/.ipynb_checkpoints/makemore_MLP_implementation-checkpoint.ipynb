{
 "cells": [
  {
   "cell_type": "code",
   "id": "initial_id",
   "metadata": {
    "collapsed": true,
    "ExecuteTime": {
     "end_time": "2024-08-12T11:59:35.569244Z",
     "start_time": "2024-08-12T11:59:32.837035Z"
    }
   },
   "source": [
    "import torch\n",
    "import torch.nn.functional as F\n",
    "import matplotlib.pyplot as plt \n",
    "%matplotlib inline"
   ],
   "outputs": [],
   "execution_count": 1
  },
  {
   "metadata": {
    "ExecuteTime": {
     "end_time": "2024-08-12T11:59:35.668063Z",
     "start_time": "2024-08-12T11:59:35.570247Z"
    }
   },
   "cell_type": "code",
   "source": [
    "#read all words\n",
    "words = open('hindi_names.txt','r').read().splitlines()\n",
    "words = [w.lower() for w in words]\n",
    "words[:8]"
   ],
   "id": "465770b7ba9e0f71",
   "outputs": [
    {
     "data": {
      "text/plain": [
       "['aachal',\n",
       " 'aadharsh',\n",
       " 'aadhavi',\n",
       " 'aadhira',\n",
       " 'aadidev',\n",
       " 'aadil',\n",
       " 'aadita',\n",
       " 'aaditya']"
      ]
     },
     "execution_count": 2,
     "metadata": {},
     "output_type": "execute_result"
    }
   ],
   "execution_count": 2
  },
  {
   "metadata": {
    "ExecuteTime": {
     "end_time": "2024-08-12T11:59:35.672975Z",
     "start_time": "2024-08-12T11:59:35.669068Z"
    }
   },
   "cell_type": "code",
   "source": "len(words)",
   "id": "c7fcf8c284603721",
   "outputs": [
    {
     "data": {
      "text/plain": [
       "2195"
      ]
     },
     "execution_count": 3,
     "metadata": {},
     "output_type": "execute_result"
    }
   ],
   "execution_count": 3
  },
  {
   "metadata": {
    "ExecuteTime": {
     "end_time": "2024-08-12T11:59:35.678710Z",
     "start_time": "2024-08-12T11:59:35.673981Z"
    }
   },
   "cell_type": "code",
   "source": [
    "chars = sorted(list(set('.'.join(words))))\n",
    "\n",
    "stoi = {s:i for i,s in enumerate(chars)}\n",
    "stoi['.'] = 0\n",
    "itos = {i:s for s,i in stoi.items()}\n",
    "print(itos)\n"
   ],
   "id": "d1952620cf152dc1",
   "outputs": [
    {
     "name": "stdout",
     "output_type": "stream",
     "text": [
      "{0: '.', 1: 'a', 2: 'b', 3: 'c', 4: 'd', 5: 'e', 6: 'f', 7: 'g', 8: 'h', 9: 'i', 10: 'j', 11: 'k', 12: 'l', 13: 'm', 14: 'n', 15: 'o', 16: 'p', 17: 'q', 18: 'r', 19: 's', 20: 't', 21: 'u', 22: 'v', 23: 'w', 24: 'x', 25: 'y', 26: 'z'}\n"
     ]
    }
   ],
   "execution_count": 4
  },
  {
   "metadata": {
    "ExecuteTime": {
     "end_time": "2024-08-12T11:59:35.694273Z",
     "start_time": "2024-08-12T11:59:35.679716Z"
    }
   },
   "cell_type": "code",
   "source": [
    "#building dataset\n",
    "\n",
    "block_size = 3 # context length: How many characters do we take to predict the next one\n",
    "\n",
    "X,Y = [],[]\n",
    "for w in words[:5]:\n",
    "    print(w)\n",
    "    context = [0]*block_size\n",
    "    for ch in w + '.':\n",
    "        ix = stoi[ch]\n",
    "        X.append(context)\n",
    "        Y.append(ix)\n",
    "        print(''.join(itos[i] for i in context), '-->',itos[ix])\n",
    "        context = context[1:] + [ix]\n",
    "        print(context)\n",
    "\n",
    "X = torch.tensor(X)\n",
    "Y = torch.tensor(Y)"
   ],
   "id": "3fa4804a1997a121",
   "outputs": [
    {
     "name": "stdout",
     "output_type": "stream",
     "text": [
      "aachal\n",
      "... --> a\n",
      "[0, 0, 1]\n",
      "..a --> a\n",
      "[0, 1, 1]\n",
      ".aa --> c\n",
      "[1, 1, 3]\n",
      "aac --> h\n",
      "[1, 3, 8]\n",
      "ach --> a\n",
      "[3, 8, 1]\n",
      "cha --> l\n",
      "[8, 1, 12]\n",
      "hal --> .\n",
      "[1, 12, 0]\n",
      "aadharsh\n",
      "... --> a\n",
      "[0, 0, 1]\n",
      "..a --> a\n",
      "[0, 1, 1]\n",
      ".aa --> d\n",
      "[1, 1, 4]\n",
      "aad --> h\n",
      "[1, 4, 8]\n",
      "adh --> a\n",
      "[4, 8, 1]\n",
      "dha --> r\n",
      "[8, 1, 18]\n",
      "har --> s\n",
      "[1, 18, 19]\n",
      "ars --> h\n",
      "[18, 19, 8]\n",
      "rsh --> .\n",
      "[19, 8, 0]\n",
      "aadhavi\n",
      "... --> a\n",
      "[0, 0, 1]\n",
      "..a --> a\n",
      "[0, 1, 1]\n",
      ".aa --> d\n",
      "[1, 1, 4]\n",
      "aad --> h\n",
      "[1, 4, 8]\n",
      "adh --> a\n",
      "[4, 8, 1]\n",
      "dha --> v\n",
      "[8, 1, 22]\n",
      "hav --> i\n",
      "[1, 22, 9]\n",
      "avi --> .\n",
      "[22, 9, 0]\n",
      "aadhira\n",
      "... --> a\n",
      "[0, 0, 1]\n",
      "..a --> a\n",
      "[0, 1, 1]\n",
      ".aa --> d\n",
      "[1, 1, 4]\n",
      "aad --> h\n",
      "[1, 4, 8]\n",
      "adh --> i\n",
      "[4, 8, 9]\n",
      "dhi --> r\n",
      "[8, 9, 18]\n",
      "hir --> a\n",
      "[9, 18, 1]\n",
      "ira --> .\n",
      "[18, 1, 0]\n",
      "aadidev\n",
      "... --> a\n",
      "[0, 0, 1]\n",
      "..a --> a\n",
      "[0, 1, 1]\n",
      ".aa --> d\n",
      "[1, 1, 4]\n",
      "aad --> i\n",
      "[1, 4, 9]\n",
      "adi --> d\n",
      "[4, 9, 4]\n",
      "did --> e\n",
      "[9, 4, 5]\n",
      "ide --> v\n",
      "[4, 5, 22]\n",
      "dev --> .\n",
      "[5, 22, 0]\n"
     ]
    }
   ],
   "execution_count": 5
  }
 ],
 "metadata": {
  "kernelspec": {
   "display_name": "Python 3",
   "language": "python",
   "name": "python3"
  },
  "language_info": {
   "codemirror_mode": {
    "name": "ipython",
    "version": 2
   },
   "file_extension": ".py",
   "mimetype": "text/x-python",
   "name": "python",
   "nbconvert_exporter": "python",
   "pygments_lexer": "ipython2",
   "version": "2.7.6"
  }
 },
 "nbformat": 4,
 "nbformat_minor": 5
}
