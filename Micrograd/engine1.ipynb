{
 "cells": [
  {
   "cell_type": "code",
   "id": "initial_id",
   "metadata": {
    "collapsed": true,
    "ExecuteTime": {
     "end_time": "2024-08-08T09:00:37.042790Z",
     "start_time": "2024-08-08T09:00:36.418354Z"
    }
   },
   "source": [
    "import math\n",
    "import numpy as np\n",
    "import matplotlib.pyplot as plt\n",
    "%matplotlib inline"
   ],
   "outputs": [],
   "execution_count": 1
  },
  {
   "metadata": {
    "ExecuteTime": {
     "end_time": "2024-08-09T10:35:37.181595Z",
     "start_time": "2024-08-09T10:35:37.172588Z"
    }
   },
   "cell_type": "code",
   "source": [
    "class Value:\n",
    "    \n",
    "    def __init__(self,data,_children=(),_op=''):\n",
    "        self.data = data\n",
    "        self._prev = set(_children)\n",
    "        self.grad = 0\n",
    "        self._op = _op\n",
    "        self._backward = lambda:None\n",
    "        self.prev = set(_children)\n",
    "        self._op = _op\n",
    "        #print(self._prev)\n",
    "        #print(self.data)\n",
    " \n",
    "    \n",
    "    def __add__(self, other):\n",
    "        other = other if isinstance(other,Value) else Value(other)\n",
    "        out = Value(self.data + other.data,(self,other),_op='+')\n",
    "        \n",
    "        def _backward():\n",
    "            # Addition because k(x) + y(x) = f if this is the case then we are overwriting the gradients that are involved, hence add ( multivariable differentiation) ez\n",
    "            self.grad += out.grad\n",
    "            other.grad += out.grad\n",
    "        \n",
    "        # ._backward function is assinged to out._backward allowing to call later. We are assigning the function object itself rather than the result of calling the \n",
    "        # function.\n",
    "        out._backward = _backward\n",
    "        return out\n",
    "    \n",
    "    def __mul__(self,other):\n",
    "        other = other if isinstance(other,Value) else Value(other)\n",
    "        out = Value(self.data * other.data,(self,other),_op='* ')\n",
    "        \n",
    "        def _backward():\n",
    "            self.grad += out.grad * other.data\n",
    "            other.grad += self.data * out.grad\n",
    "        \n",
    "        out._backward = _backward\n",
    "        return out  \n",
    "    \n",
    "    def __pow__(self, other):\n",
    "        assert isinstance(other,(int,float)), \"Only supporting int/float powers\"\n",
    "        out = Value(self.data ** other,(self,),f'**{other}')\n",
    "        \n",
    "        def _backward():\n",
    "            self.grad += (other*self.data**(other-1))*out.grad\n",
    "        out._backward= _backward\n",
    "        \n",
    "    def relu(self):\n",
    "        out = Value(0 if self.data <0 else self.data,(self,),'ReLU')\n",
    "        \n",
    "        def _backward():\n",
    "            self.grad += out.grad*(out.data>0)\n",
    "        \n",
    "        out._backward = _backward\n",
    "        return out\n",
    "    \n",
    "    def backward(self):\n",
    "        # Topological ordering of all children\n",
    "        topo = []\n",
    "        visited = set()\n",
    "        def build_topo(v):\n",
    "            if v not in visited:\n",
    "                visited.add(v)\n",
    "                for child in v._prev:\n",
    "                    build_topo(child)\n",
    "                topo.append(v)\n",
    "        build_topo(self)\n",
    "        \n",
    "        # go one variable at a time and apply the chain rule to its gradient\n",
    "        self.grad = 1\n",
    "        for v in reversed(topo):\n",
    "            v._backward()\n",
    "\n",
    "    def __neg__(self): \n",
    "        return self*-1\n",
    "    def __radd__(self, other): # other + self\n",
    "        return self + other\n",
    "\n",
    "    def __sub__(self, other): # self - other\n",
    "        return self + (-other)\n",
    "\n",
    "    def __rsub__(self, other): # other - self\n",
    "        return other + (-self)\n",
    "\n",
    "    def __rmul__(self, other): # other * self\n",
    "        return self * other\n",
    "\n",
    "    def __truediv__(self, other): # self / other\n",
    "        return self * other**-1\n",
    "\n",
    "    def __rtruediv__(self, other): # other / self\n",
    "        return other * self**-1\n",
    "  \n",
    "    def __repr__(self):\n",
    "        return f\"Value(data={self.data})\"\n",
    "    #Python internally uses this function to return the string\n",
    "    \n",
    "a = Value(2.0)\n",
    "b = Value(-3.0)\n",
    "c = Value(10.0)\n",
    "\n",
    "d = a*b + c\n",
    "d\n",
    "print(a.grad)"
   ],
   "id": "c96cff2a3798dc9a",
   "outputs": [
    {
     "name": "stdout",
     "output_type": "stream",
     "text": [
      "0\n"
     ]
    }
   ],
   "execution_count": 42
  },
  {
   "metadata": {
    "ExecuteTime": {
     "end_time": "2024-08-09T10:35:44.506340Z",
     "start_time": "2024-08-09T10:35:44.502310Z"
    }
   },
   "cell_type": "code",
   "source": [
    "d.backward()\n",
    "print(b.grad)"
   ],
   "id": "441559e5df1e318a",
   "outputs": [
    {
     "name": "stdout",
     "output_type": "stream",
     "text": [
      "72.0\n"
     ]
    }
   ],
   "execution_count": 50
  },
  {
   "metadata": {
    "ExecuteTime": {
     "end_time": "2024-08-09T10:11:27.868860Z",
     "start_time": "2024-08-09T10:11:27.863042Z"
    }
   },
   "cell_type": "code",
   "source": [
    "def xy():\n",
    "    print(\"Hello this is xy\")\n",
    "\n",
    "ab = xy\n",
    "ab"
   ],
   "id": "7980ee6291f2d8ee",
   "outputs": [
    {
     "data": {
      "text/plain": [
       "<function __main__.xy()>"
      ]
     },
     "execution_count": 6,
     "metadata": {},
     "output_type": "execute_result"
    }
   ],
   "execution_count": 6
  }
 ],
 "metadata": {
  "kernelspec": {
   "display_name": "Python 3",
   "language": "python",
   "name": "python3"
  },
  "language_info": {
   "codemirror_mode": {
    "name": "ipython",
    "version": 2
   },
   "file_extension": ".py",
   "mimetype": "text/x-python",
   "name": "python",
   "nbconvert_exporter": "python",
   "pygments_lexer": "ipython2",
   "version": "2.7.6"
  }
 },
 "nbformat": 4,
 "nbformat_minor": 5
}
